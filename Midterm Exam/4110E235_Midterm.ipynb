{
  "nbformat": 4,
  "nbformat_minor": 0,
  "metadata": {
    "colab": {
      "provenance": []
    },
    "kernelspec": {
      "name": "python3",
      "display_name": "Python 3"
    },
    "language_info": {
      "name": "python"
    }
  },
  "cells": [
    {
      "cell_type": "markdown",
      "source": [
        "##4\n",
        "\n",
        "**Answer: A (Apple)**"
      ],
      "metadata": {
        "id": "zKJScwpXdTUs"
      }
    },
    {
      "cell_type": "code",
      "source": [
        "fruits = [\"apple\", \"banana\", \"cherry\"]\n",
        "x, y, z = fruits\n",
        "print(x)"
      ],
      "metadata": {
        "colab": {
          "base_uri": "https://localhost:8080/"
        },
        "id": "QIBQyPxCVeL5",
        "outputId": "923b3272-da39-478d-f8e1-51550477be52"
      },
      "execution_count": 5,
      "outputs": [
        {
          "output_type": "stream",
          "name": "stdout",
          "text": [
            "apple\n"
          ]
        }
      ]
    },
    {
      "cell_type": "markdown",
      "source": [
        "##5 \n",
        "\n",
        "**Answer: (E) students = { 'name' : 'alice' , 'score' : 60  }**\n"
      ],
      "metadata": {
        "id": "XFM3PaIAdfO9"
      }
    },
    {
      "cell_type": "code",
      "source": [
        "students = { 'name' => 'alice' ; 'score' => 60}"
      ],
      "metadata": {
        "colab": {
          "base_uri": "https://localhost:8080/",
          "height": 133
        },
        "id": "pkIVNfSNV-bp",
        "outputId": "3165ceea-a3c6-4808-d9ea-a920f09192b2"
      },
      "execution_count": 6,
      "outputs": [
        {
          "output_type": "error",
          "ename": "SyntaxError",
          "evalue": "ignored",
          "traceback": [
            "\u001b[0;36m  File \u001b[0;32m\"<ipython-input-6-679a9bf8c995>\"\u001b[0;36m, line \u001b[0;32m1\u001b[0m\n\u001b[0;31m    students = { 'name' => 'alice' ; 'score' => 60}\u001b[0m\n\u001b[0m                        ^\u001b[0m\n\u001b[0;31mSyntaxError\u001b[0m\u001b[0;31m:\u001b[0m invalid syntax\n"
          ]
        }
      ]
    },
    {
      "cell_type": "code",
      "source": [
        "students = {'name' = 'alice' ; 'score' = 60}"
      ],
      "metadata": {
        "colab": {
          "base_uri": "https://localhost:8080/",
          "height": 133
        },
        "id": "Q5uszNCUWbau",
        "outputId": "103eb886-65a1-4072-f060-e07f8a17ad43"
      },
      "execution_count": 7,
      "outputs": [
        {
          "output_type": "error",
          "ename": "SyntaxError",
          "evalue": "ignored",
          "traceback": [
            "\u001b[0;36m  File \u001b[0;32m\"<ipython-input-7-c4da3db49f94>\"\u001b[0;36m, line \u001b[0;32m1\u001b[0m\n\u001b[0;31m    students = {'name' = 'alice' ; 'score' = 60}\u001b[0m\n\u001b[0m                       ^\u001b[0m\n\u001b[0;31mSyntaxError\u001b[0m\u001b[0;31m:\u001b[0m invalid syntax\n"
          ]
        }
      ]
    },
    {
      "cell_type": "code",
      "source": [
        "students = {'name' : 'alice' ; 'score' : 60}"
      ],
      "metadata": {
        "colab": {
          "base_uri": "https://localhost:8080/",
          "height": 133
        },
        "id": "emZR-9RDWpee",
        "outputId": "ae6dd30f-380f-46ff-f3f4-06a9ee35b593"
      },
      "execution_count": 8,
      "outputs": [
        {
          "output_type": "error",
          "ename": "SyntaxError",
          "evalue": "ignored",
          "traceback": [
            "\u001b[0;36m  File \u001b[0;32m\"<ipython-input-8-31ed32340dcb>\"\u001b[0;36m, line \u001b[0;32m1\u001b[0m\n\u001b[0;31m    students = {'name' : 'alice' ; 'score' : 60}\u001b[0m\n\u001b[0m                                 ^\u001b[0m\n\u001b[0;31mSyntaxError\u001b[0m\u001b[0;31m:\u001b[0m invalid syntax\n"
          ]
        }
      ]
    },
    {
      "cell_type": "markdown",
      "source": [],
      "metadata": {
        "id": "Dg1oqbMBdSAE"
      }
    },
    {
      "cell_type": "code",
      "source": [
        "students = {'name' => 'alice' , 'score' => 60}"
      ],
      "metadata": {
        "colab": {
          "base_uri": "https://localhost:8080/",
          "height": 133
        },
        "id": "AXy_Sw_CW2ne",
        "outputId": "7d6b57ce-01c6-4223-850a-cb096c1b6ce1"
      },
      "execution_count": 9,
      "outputs": [
        {
          "output_type": "error",
          "ename": "SyntaxError",
          "evalue": "ignored",
          "traceback": [
            "\u001b[0;36m  File \u001b[0;32m\"<ipython-input-9-c9d4bee43559>\"\u001b[0;36m, line \u001b[0;32m1\u001b[0m\n\u001b[0;31m    students = {'name' => 'alice' , 'score' => 60}\u001b[0m\n\u001b[0m                       ^\u001b[0m\n\u001b[0;31mSyntaxError\u001b[0m\u001b[0;31m:\u001b[0m invalid syntax\n"
          ]
        }
      ]
    },
    {
      "cell_type": "code",
      "source": [
        "students = { 'name' : 'alice' , 'score' : 60 }"
      ],
      "metadata": {
        "id": "h9CLsPRyXFyH"
      },
      "execution_count": 11,
      "outputs": []
    },
    {
      "cell_type": "markdown",
      "source": [
        "##6 \n",
        "\n",
        "**Answer: (D) Python will give you an error**"
      ],
      "metadata": {
        "id": "w9tpUAZgeLrz"
      }
    },
    {
      "cell_type": "code",
      "source": [
        "x = 5\n",
        "y = \"John\"\n",
        "print(x + y)"
      ],
      "metadata": {
        "colab": {
          "base_uri": "https://localhost:8080/",
          "height": 204
        },
        "id": "fAlf4RyLeYx6",
        "outputId": "0a6dc5a3-6d29-44bd-ada9-5afd6f37509f"
      },
      "execution_count": 12,
      "outputs": [
        {
          "output_type": "error",
          "ename": "TypeError",
          "evalue": "ignored",
          "traceback": [
            "\u001b[0;31m---------------------------------------------------------------------------\u001b[0m",
            "\u001b[0;31mTypeError\u001b[0m                                 Traceback (most recent call last)",
            "\u001b[0;32m<ipython-input-12-00c66e4310ff>\u001b[0m in \u001b[0;36m<module>\u001b[0;34m\u001b[0m\n\u001b[1;32m      1\u001b[0m \u001b[0mx\u001b[0m \u001b[0;34m=\u001b[0m \u001b[0;36m5\u001b[0m\u001b[0;34m\u001b[0m\u001b[0;34m\u001b[0m\u001b[0m\n\u001b[1;32m      2\u001b[0m \u001b[0my\u001b[0m \u001b[0;34m=\u001b[0m \u001b[0;34m\"John\"\u001b[0m\u001b[0;34m\u001b[0m\u001b[0;34m\u001b[0m\u001b[0m\n\u001b[0;32m----> 3\u001b[0;31m \u001b[0mprint\u001b[0m\u001b[0;34m(\u001b[0m\u001b[0mx\u001b[0m \u001b[0;34m+\u001b[0m \u001b[0my\u001b[0m\u001b[0;34m)\u001b[0m\u001b[0;34m\u001b[0m\u001b[0;34m\u001b[0m\u001b[0m\n\u001b[0m",
            "\u001b[0;31mTypeError\u001b[0m: unsupported operand type(s) for +: 'int' and 'str'"
          ]
        }
      ]
    },
    {
      "cell_type": "markdown",
      "source": [
        "##7 \n",
        "\n",
        "**Answer: (A) 13//5 output: 2.6**"
      ],
      "metadata": {
        "id": "OpOEAcDiecBA"
      }
    },
    {
      "cell_type": "code",
      "source": [
        "13//5"
      ],
      "metadata": {
        "colab": {
          "base_uri": "https://localhost:8080/"
        },
        "id": "s9q9Qy80eyfF",
        "outputId": "c686efbb-86dd-40ab-8f37-b92e259a71a5"
      },
      "execution_count": 13,
      "outputs": [
        {
          "output_type": "execute_result",
          "data": {
            "text/plain": [
              "2"
            ]
          },
          "metadata": {},
          "execution_count": 13
        }
      ]
    },
    {
      "cell_type": "code",
      "source": [
        "13/5"
      ],
      "metadata": {
        "colab": {
          "base_uri": "https://localhost:8080/"
        },
        "id": "zgrNG3W6e6I-",
        "outputId": "4a00d09e-4c12-4608-8f77-3cbbc2341b34"
      },
      "execution_count": 14,
      "outputs": [
        {
          "output_type": "execute_result",
          "data": {
            "text/plain": [
              "2.6"
            ]
          },
          "metadata": {},
          "execution_count": 14
        }
      ]
    },
    {
      "cell_type": "code",
      "source": [
        "13%5"
      ],
      "metadata": {
        "colab": {
          "base_uri": "https://localhost:8080/"
        },
        "id": "L43X-nmEe8bQ",
        "outputId": "69ee7fbf-78a4-410b-d07f-e667d405cccc"
      },
      "execution_count": 15,
      "outputs": [
        {
          "output_type": "execute_result",
          "data": {
            "text/plain": [
              "3"
            ]
          },
          "metadata": {},
          "execution_count": 15
        }
      ]
    },
    {
      "cell_type": "code",
      "source": [
        "y = int(2.8)\n",
        "print (y)"
      ],
      "metadata": {
        "colab": {
          "base_uri": "https://localhost:8080/"
        },
        "id": "SA7R8w5DfAJf",
        "outputId": "677297b4-7341-4635-945b-8b7d086672ac"
      },
      "execution_count": 17,
      "outputs": [
        {
          "output_type": "stream",
          "name": "stdout",
          "text": [
            "2\n"
          ]
        }
      ]
    },
    {
      "cell_type": "markdown",
      "source": [
        "##8 \n",
        "\n",
        "**Answer: (D) Calculate the sum of 3+4+5+6+...+10**"
      ],
      "metadata": {
        "id": "hX9K3OljfPDb"
      }
    },
    {
      "cell_type": "code",
      "source": [
        "s=0\n",
        "for i in range (3 , 11):\n",
        "      s+=i\n",
        "print(s)\n",
        "#calculate the sum of 3+4+5+6+...+10"
      ],
      "metadata": {
        "colab": {
          "base_uri": "https://localhost:8080/"
        },
        "id": "VwxjIduDffo-",
        "outputId": "f736f1a0-72d1-44b1-d744-74402db40485"
      },
      "execution_count": 19,
      "outputs": [
        {
          "output_type": "stream",
          "name": "stdout",
          "text": [
            "52\n"
          ]
        }
      ]
    },
    {
      "cell_type": "markdown",
      "source": [
        "##9 \n",
        "\n",
        "**Answer: (C) llolo, W**"
      ],
      "metadata": {
        "id": "3o0yITdbfyn3"
      }
    },
    {
      "cell_type": "code",
      "source": [
        "a = \"Hello, World!\"\n",
        "print(a[2:5]+ a[3:8])"
      ],
      "metadata": {
        "colab": {
          "base_uri": "https://localhost:8080/"
        },
        "id": "j6G_oRucgF_j",
        "outputId": "8b33b2ee-5f08-4789-f842-6c6154251905"
      },
      "execution_count": 20,
      "outputs": [
        {
          "output_type": "stream",
          "name": "stdout",
          "text": [
            "llolo, W\n"
          ]
        }
      ]
    },
    {
      "cell_type": "markdown",
      "source": [
        "##10\n",
        "\n",
        "**Answer: (A) len(a)**"
      ],
      "metadata": {
        "id": "R_lWQgE4gZhU"
      }
    },
    {
      "cell_type": "code",
      "source": [
        "a = \"Hello, Pythonian!\"\n",
        "print(len(a))"
      ],
      "metadata": {
        "colab": {
          "base_uri": "https://localhost:8080/"
        },
        "id": "7aCH2FQJgcal",
        "outputId": "4ec8d338-7189-4447-f6e1-6ca91fddd473"
      },
      "execution_count": 21,
      "outputs": [
        {
          "output_type": "stream",
          "name": "stdout",
          "text": [
            "17\n"
          ]
        }
      ]
    },
    {
      "cell_type": "markdown",
      "source": [
        "##11\n",
        "\n",
        "**Answer: (D) [ 'b' , 'c' , 'd' , 'e']**"
      ],
      "metadata": {
        "id": "YEVeaFcBgtsH"
      }
    },
    {
      "cell_type": "code",
      "source": [
        "list = [ 'a' , 'b' , 'c' , 'd' , 'e' ]\n",
        "print (list[ 1: ])"
      ],
      "metadata": {
        "colab": {
          "base_uri": "https://localhost:8080/"
        },
        "id": "7YU5I4z5g7UN",
        "outputId": "fbda8ba2-e7b2-445f-a196-73b96384547f"
      },
      "execution_count": 22,
      "outputs": [
        {
          "output_type": "stream",
          "name": "stdout",
          "text": [
            "['b', 'c', 'd', 'e']\n"
          ]
        }
      ]
    },
    {
      "cell_type": "markdown",
      "source": [
        "##12\n",
        "\n",
        "**Answer: (C) 11 **"
      ],
      "metadata": {
        "id": "C9pBFMlIhP0n"
      }
    },
    {
      "cell_type": "code",
      "source": [
        "L1 = [ ]\n",
        "L1.append ( [1, [2, 3], 4] )\n",
        "L1.extend ( [7, 8, 9] )\n",
        "print(L1[0][1][1] + L1[2] )"
      ],
      "metadata": {
        "colab": {
          "base_uri": "https://localhost:8080/"
        },
        "id": "ykaAwKwFhYp-",
        "outputId": "322b013e-eca8-4093-c8ea-e4dd9ef99bc4"
      },
      "execution_count": 23,
      "outputs": [
        {
          "output_type": "stream",
          "name": "stdout",
          "text": [
            "11\n"
          ]
        }
      ]
    },
    {
      "cell_type": "markdown",
      "source": [
        "##13\n",
        "\n",
        "**Answer: (D) in**"
      ],
      "metadata": {
        "id": "hwNk0UgHhdyN"
      }
    },
    {
      "cell_type": "code",
      "source": [
        "txt = \"The best things in life are free!\"\n",
        "print(\"free\" in txt)"
      ],
      "metadata": {
        "colab": {
          "base_uri": "https://localhost:8080/"
        },
        "id": "J8QcmfRXhkoe",
        "outputId": "77011da6-f6fb-442d-c792-cf3b1a891905"
      },
      "execution_count": 24,
      "outputs": [
        {
          "output_type": "stream",
          "name": "stdout",
          "text": [
            "True\n"
          ]
        }
      ]
    },
    {
      "cell_type": "markdown",
      "source": [
        "##14\n",
        "\n",
        "**Answer: (D) first = [1, 2, 3, 4, 5, 6] , second = [1, 2, 3, 4, 5, 6]**"
      ],
      "metadata": {
        "id": "eg0repGGjeit"
      }
    },
    {
      "cell_type": "code",
      "source": [
        "first = [1 , 2 , 3 , 4 , 5]\n",
        "second = first\n",
        "second.append (6)\n",
        "print(first)\n",
        "print(second)"
      ],
      "metadata": {
        "colab": {
          "base_uri": "https://localhost:8080/"
        },
        "id": "2kJlX-tcj5VQ",
        "outputId": "c8f121d6-88bc-4ed7-b224-560e39b538a3"
      },
      "execution_count": 25,
      "outputs": [
        {
          "output_type": "stream",
          "name": "stdout",
          "text": [
            "[1, 2, 3, 4, 5, 6]\n",
            "[1, 2, 3, 4, 5, 6]\n"
          ]
        }
      ]
    },
    {
      "cell_type": "markdown",
      "source": [
        "##18 \n",
        "\n",
        "**Answer: (C) mylist.insert(1, \"orange\" )**"
      ],
      "metadata": {
        "id": "x8bw9qW1kF-q"
      }
    },
    {
      "cell_type": "code",
      "source": [
        "mylist = [\"apple\", \"banana\", \"cherry\"]\n",
        "mylist.insert(1, \"orange\")   \n",
        "print(mylist)"
      ],
      "metadata": {
        "colab": {
          "base_uri": "https://localhost:8080/"
        },
        "id": "U9vcpWVPkYf6",
        "outputId": "25aa9488-db42-4cb0-c239-e07dae124d61"
      },
      "execution_count": 26,
      "outputs": [
        {
          "output_type": "stream",
          "name": "stdout",
          "text": [
            "['apple', 'orange', 'banana', 'cherry']\n"
          ]
        }
      ]
    },
    {
      "cell_type": "markdown",
      "source": [
        "##21 \n",
        "\n",
        "**Answer: (A) 1 2 3**"
      ],
      "metadata": {
        "id": "XrdfAAcVke6A"
      }
    },
    {
      "cell_type": "code",
      "source": [
        "i = 1\n",
        "while i < 6:\n",
        "  print(i)\n",
        "  if (i == 3):\n",
        "    break\n",
        "  i += 1"
      ],
      "metadata": {
        "colab": {
          "base_uri": "https://localhost:8080/"
        },
        "id": "ebUNu4h_l060",
        "outputId": "2b5b8152-ecd1-4191-8796-01e521f3f025"
      },
      "execution_count": 27,
      "outputs": [
        {
          "output_type": "stream",
          "name": "stdout",
          "text": [
            "1\n",
            "2\n",
            "3\n"
          ]
        }
      ]
    },
    {
      "cell_type": "markdown",
      "source": [
        "##22\n",
        "\n",
        "**Answer: (C) 1 2 3 4 5 6**"
      ],
      "metadata": {
        "id": "S6Oo0ud4mFsV"
      }
    },
    {
      "cell_type": "code",
      "source": [
        "i = 0\n",
        "while i < 6:\n",
        "  i += 1\n",
        "  if i == 3:\n",
        "    continue\n",
        "  print(i)"
      ],
      "metadata": {
        "colab": {
          "base_uri": "https://localhost:8080/"
        },
        "id": "KWlOAWxmmRzX",
        "outputId": "4576a60a-46e6-4ac6-8d3a-c793d9a9a59c"
      },
      "execution_count": 28,
      "outputs": [
        {
          "output_type": "stream",
          "name": "stdout",
          "text": [
            "1\n",
            "2\n",
            "4\n",
            "5\n",
            "6\n"
          ]
        }
      ]
    },
    {
      "cell_type": "markdown",
      "source": [
        "##24\n",
        "\n",
        "**Answer: (E) 24**"
      ],
      "metadata": {
        "id": "apptE9YkmXpK"
      }
    },
    {
      "cell_type": "code",
      "source": [
        "r = lambda q: q * 2\n",
        "s = lambda q: q * 3\n",
        "x = 2\n",
        "x = r (x)\n",
        "x = s (x)\n",
        "x = r (x)\n",
        "print (x)"
      ],
      "metadata": {
        "colab": {
          "base_uri": "https://localhost:8080/"
        },
        "id": "3lLBQRzymd9z",
        "outputId": "07fa0a33-6124-4c24-947b-5d0daee285f9"
      },
      "execution_count": 29,
      "outputs": [
        {
          "output_type": "stream",
          "name": "stdout",
          "text": [
            "24\n"
          ]
        }
      ]
    },
    {
      "cell_type": "markdown",
      "source": [
        "##25\n",
        "\n",
        "**Answer: (D) 21**"
      ],
      "metadata": {
        "id": "HgZXOyQCmh-a"
      }
    },
    {
      "cell_type": "code",
      "source": [
        "def tri_recursion(k):\n",
        "  if(k > 0):\n",
        "    result = k + tri_recursion(k - 1)\n",
        "    print(result)\n",
        "  else:\n",
        "    result = 0\n",
        "  return result\n",
        "\n",
        "print(\"\\n\\nRecursion Example Results\")\n",
        "tri_recursion(6)"
      ],
      "metadata": {
        "colab": {
          "base_uri": "https://localhost:8080/"
        },
        "id": "o82hj1XpmnN_",
        "outputId": "ad662d9f-9219-4bb1-de79-6c25b8f6fa04"
      },
      "execution_count": 30,
      "outputs": [
        {
          "output_type": "stream",
          "name": "stdout",
          "text": [
            "\n",
            "\n",
            "Recursion Example Results\n",
            "1\n",
            "3\n",
            "6\n",
            "10\n",
            "15\n",
            "21\n"
          ]
        },
        {
          "output_type": "execute_result",
          "data": {
            "text/plain": [
              "21"
            ]
          },
          "metadata": {},
          "execution_count": 30
        }
      ]
    }
  ]
}